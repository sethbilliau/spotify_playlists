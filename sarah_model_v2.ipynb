{
 "cells": [
  {
   "cell_type": "code",
   "execution_count": null,
   "metadata": {},
   "outputs": [],
   "source": [
    "#RUN THIS CELL \n",
    "import requests\n",
    "from IPython.core.display import HTML\n",
    "styles = requests.get(\"https://raw.githubusercontent.com/Harvard-IACS/2018-CS109A/master/content/styles/cs109.css\").text\n",
    "HTML(styles)"
   ]
  },
  {
   "cell_type": "code",
   "execution_count": null,
   "metadata": {},
   "outputs": [],
   "source": [
    "import numpy as np\n",
    "import pandas as pd\n",
    "from scipy.stats import ttest_ind\n",
    "pd.set_option('display.max_columns', 25)\n",
    "\n",
    "from sklearn.linear_model import LinearRegression\n",
    "from sklearn.linear_model import LogisticRegression\n",
    "from sklearn.linear_model import LogisticRegressionCV\n",
    "from sklearn.linear_model import LassoCV\n",
    "\n",
    "from sklearn.neighbors import KNeighborsClassifier\n",
    "from sklearn.model_selection import cross_val_score\n",
    "from sklearn.metrics import accuracy_score\n",
    "from sklearn.model_selection import KFold\n",
    "from sklearn.preprocessing import MinMaxScaler\n",
    "from sklearn.preprocessing import StandardScaler\n",
    "from sklearn.model_selection import train_test_split\n",
    "from sklearn.decomposition import PCA\n",
    "from sklearn import metrics\n",
    "from sklearn.metrics import confusion_matrix\n",
    "\n",
    "import matplotlib\n",
    "import matplotlib.pyplot as plt\n",
    "%matplotlib inline\n",
    "\n",
    "import statsmodels.api as sm\n",
    "from statsmodels.api import OLS\n",
    "\n",
    "import seaborn as sns\n",
    "sns.set()\n",
    "\n",
    "import spotipy\n",
    "from spotipy.oauth2 import SpotifyClientCredentials\n",
    "import time"
   ]
  },
  {
   "cell_type": "code",
   "execution_count": null,
   "metadata": {},
   "outputs": [],
   "source": [
    "# https://stackoverflow.com/questions/30557409/spotify-api-post-call-response-415\n",
    "client_id = \"9cd3dd2ea2cf492ca28ab0247a79d781\"\n",
    "client_secret = \"11c972ad002843e9be5ecc31f022dd6e\"\n",
    "grant_type = 'client_credentials'\n",
    "body_params = {'grant_type' : grant_type}\n",
    "url = 'https://accounts.spotify.com/api/token'\n",
    "\n",
    "response = requests.post(url, data=body_params, auth = (client_id, client_secret)) \n",
    "print(response.content)"
   ]
  },
  {
   "cell_type": "code",
   "execution_count": null,
   "metadata": {},
   "outputs": [],
   "source": [
    "# Using Spotipy library\n",
    "client_credentials_manager = SpotifyClientCredentials(client_id, client_secret)\n",
    "sp = spotipy.Spotify(client_credentials_manager=client_credentials_manager)\n",
    "\n",
    "sp.audio_features([\"0UaMYEvWZi0ZqiDOoHU3YI\"])"
   ]
  },
  {
   "cell_type": "code",
   "execution_count": null,
   "metadata": {},
   "outputs": [],
   "source": [
    "def songs_in_playlist(df, pid):\n",
    "    '''\n",
    "    input: dataframe and playlist ID\n",
    "    returns: list of all songs on playlist by track_uri \n",
    "    '''\n",
    "    playlist = np.where(df.pid == pid)\n",
    "    return list(df.iloc[playlist][\"track_uri\"])\n",
    "\n",
    "def playlist_means(tracks):\n",
    "    '''\n",
    "    input: list of tracks on a playlist (can be generated from songs_in_playlist())\n",
    "    returns: statistics for audio features of playlist  \n",
    "    '''\n",
    "    num = len(tracks)\n",
    "    # We can only pass 100 tracks at a time\n",
    "    if num <= 100:\n",
    "        p = pd.DataFrame.from_records(sp.audio_features(tracks))\n",
    "    else:\n",
    "        start = 0\n",
    "        end = 100\n",
    "        p = pd.DataFrame.from_records(sp.audio_features(tracks[start:end]))\n",
    "        for i in range(int(num / 100)):\n",
    "            start = end\n",
    "            diff = num - end\n",
    "            if diff > 100:\n",
    "                end += 100\n",
    "            else:\n",
    "                end += diff\n",
    "            \n",
    "            new_p = pd.DataFrame.from_records(sp.audio_features(tracks[start:end]))\n",
    "            p = p.append(new_p) \n",
    "    return p"
   ]
  },
  {
   "cell_type": "code",
   "execution_count": null,
   "metadata": {},
   "outputs": [],
   "source": [
    "songs = pd.read_pickle(\"pickles/songs_30k_dropped.pkl\")\n",
    "songs.head()"
   ]
  },
  {
   "cell_type": "code",
   "execution_count": null,
   "metadata": {},
   "outputs": [],
   "source": [
    "songs2 = songs.copy()\n",
    "songs2 = songs2.reset_index()\n",
    "cols = [\"acousticness\", \"danceability\", \"energy\", \"instrumentalness\", \"liveness\", \"speechiness\", \"tempo\"]\n",
    "\n",
    "def scaler(cols, df_old, df_new):\n",
    "    df_new = df_old.copy()\n",
    "    x_scaler = MinMaxScaler().fit(df_old[\"tempo\"].values.reshape(-1,1))\n",
    "    x_scaled = x_scaler.transform(df_old[\"tempo\"].values.reshape(-1,1))\n",
    "    df_new[\"tempo\"] = x_scaled\n",
    "\n",
    "#     x_scaler.transform(df_old[col].values.reshape(-1,1))\n",
    "    \n",
    "#     for col in cols: \n",
    "#         x_scaler = MinMaxScaler().fit(df_old[col].values.reshape(-1,1))\n",
    "#         x_scaled = MinMaxScaler().fit_transform(df_old[col].values.reshape(-1,1))\n",
    "#         df_new[col] = x_scaled\n",
    "        \n",
    "#         x_scaler.transform(df_old[col].values.reshape(-1,1))\n",
    "    return(df_new, x_scaler)\n",
    "\n",
    "\n",
    "        \n",
    "songs2, x_scaler = scaler(cols, songs, songs2)\n",
    "songs2.head()\n",
    "songs2['index']"
   ]
  },
  {
   "cell_type": "code",
   "execution_count": null,
   "metadata": {},
   "outputs": [],
   "source": [
    "song1 = songs2.iloc[np.where(songs.id == '1MYYt7h6amcrauCOoso3Gx')]\n",
    "song1"
   ]
  },
  {
   "cell_type": "code",
   "execution_count": null,
   "metadata": {},
   "outputs": [],
   "source": [
    "# def distance(idkey, songs):\n",
    "#     song = pd.DataFrame(sp.audio_features(idkey))\n",
    "#     song_scaled = song.copy()\n",
    "# #     song = scaler(cols, song, song_scaled)\n",
    "#     for col in [\"tempo\"]:\n",
    "#         song_scaled[col] = x_scaler.transform(song.loc[:, col].values.reshape(-1,1))\n",
    "#         print(col, song_scaled.loc[:, col])\n",
    "        \n",
    "#     song = song_scaled\n",
    "#     dist = np.sqrt((np.subtract(songs.acousticness, song.acousticness))**2\n",
    "#                  + (np.subtract(songs.danceability, song.danceability))**2\n",
    "#                  + (np.subtract(songs.energy, song.energy))**2\n",
    "#                  + (np.subtract(songs.instrumentalness, song.instrumentalness))**2\n",
    "#                  + (np.subtract(songs.liveness, song.liveness))**2\n",
    "#                  + (np.subtract(songs.speechiness, song.speechiness))**2\n",
    "#                  + (np.subtract(songs.tempo, song.tempo))**2)\n",
    "        \n",
    "#     return dist\n",
    "\n",
    "\n",
    "def playlist_generator(input_song_uri, n, songDF):\n",
    "    def distance(idkey, songs):\n",
    "        song = pd.DataFrame(sp.audio_features(idkey))\n",
    "        song.loc[:,\"tempo\"] = x_scaler.transform(song.loc[:,\"tempo\"].values.reshape(-1,1))\n",
    "        dist = np.sqrt((np.subtract(songs.acousticness, song.acousticness))**2\n",
    "                     + (np.subtract(songs.danceability, song.danceability))**2\n",
    "                     + (np.subtract(songs.energy, song.energy))**2\n",
    "                     + (np.subtract(songs.instrumentalness, song.instrumentalness))**2\n",
    "                     + (np.subtract(songs.liveness, song.liveness))**2\n",
    "                     + (np.subtract(songs.speechiness, song.speechiness))**2\n",
    "                     + (np.subtract(songs.tempo, song.tempo))**2)\n",
    "\n",
    "        return dist\n",
    "    \n",
    "    topn_dist = distance(input_song_uri, songDF).sort_values()[0:n]\n",
    "    print(topn_dist.index)\n",
    "    topn = songs2.loc[topn_dist.index]\n",
    "    return topn\n",
    "\n",
    "def playlist_printer(topn_ids):\n",
    "    for ref in topn_ids['id']:\n",
    "        track = sp.track(ref)\n",
    "        print(track['name'])\n",
    "        print('by')\n",
    "        for artist in track['artists']:\n",
    "            print(artist['name'])\n",
    "        print('-----------------------------------')\n",
    "        \n",
    "\n",
    "topn_ids = playlist_generator('5cYA45RVGI6F4f06gtWjsd', 25, songs2)\n",
    "playlist_printer(topn_ids)"
   ]
  },
  {
   "cell_type": "code",
   "execution_count": null,
   "metadata": {},
   "outputs": [],
   "source": [
    "top10_dist = distance('5IVuqXILoxVWvWEPm82Jxr', songs2).sort_values()[0:10]"
   ]
  },
  {
   "cell_type": "code",
   "execution_count": null,
   "metadata": {},
   "outputs": [],
   "source": [
    "top10_dist.index"
   ]
  },
  {
   "cell_type": "code",
   "execution_count": null,
   "metadata": {},
   "outputs": [],
   "source": []
  }
 ],
 "metadata": {
  "kernelspec": {
   "display_name": "Python 3",
   "language": "python",
   "name": "python3"
  },
  "language_info": {
   "codemirror_mode": {
    "name": "ipython",
    "version": 3
   },
   "file_extension": ".py",
   "mimetype": "text/x-python",
   "name": "python",
   "nbconvert_exporter": "python",
   "pygments_lexer": "ipython3",
   "version": "3.7.4"
  }
 },
 "nbformat": 4,
 "nbformat_minor": 2
}
