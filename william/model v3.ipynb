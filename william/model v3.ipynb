{
 "cells": [
  {
   "cell_type": "markdown",
   "metadata": {},
   "source": [
    "# Model v3\n"
   ]
  },
  {
   "cell_type": "markdown",
   "metadata": {},
   "source": [
    "---\n",
    "**Note**\n",
    "\n",
    "We could construct a model which determines if a user will like a certain playlist based on comparing their playlists and liked playlists to the audio features of our playlist. Train model on users playlists and likes, classify playlist as 0 or 1 if the user will like the playlist."
   ]
  },
  {
   "cell_type": "markdown",
   "metadata": {},
   "source": [
    "I believe our final model will look something like this: https://developer.spotify.com/console/get-recommendations/"
   ]
  },
  {
   "cell_type": "code",
   "execution_count": 1,
   "metadata": {},
   "outputs": [],
   "source": [
    "import numpy as np\n",
    "import pandas as pd\n",
    "from scipy.stats import ttest_ind\n",
    "pd.set_option('display.max_columns', 25)\n",
    "\n",
    "from sklearn.linear_model import LinearRegression\n",
    "from sklearn.linear_model import LogisticRegression\n",
    "from sklearn.linear_model import LogisticRegressionCV\n",
    "from sklearn.linear_model import LassoCV\n",
    "\n",
    "from sklearn.neighbors import KNeighborsClassifier\n",
    "from sklearn.model_selection import cross_val_score\n",
    "from sklearn.metrics import accuracy_score\n",
    "from sklearn.model_selection import KFold\n",
    "from sklearn.preprocessing import MinMaxScaler\n",
    "from sklearn.preprocessing import StandardScaler\n",
    "from sklearn.model_selection import train_test_split\n",
    "from sklearn.decomposition import PCA\n",
    "from sklearn import metrics\n",
    "from sklearn.metrics import confusion_matrix\n",
    "\n",
    "import matplotlib\n",
    "import matplotlib.pyplot as plt\n",
    "%matplotlib inline\n",
    "\n",
    "import statsmodels.api as sm\n",
    "from statsmodels.api import OLS\n",
    "\n",
    "import seaborn as sns\n",
    "sns.set()\n",
    "\n",
    "import spotipy\n",
    "from spotipy.oauth2 import SpotifyClientCredentials\n",
    "import time\n",
    "import requests"
   ]
  },
  {
   "cell_type": "markdown",
   "metadata": {},
   "source": [
    "## Initialize API with keys"
   ]
  },
  {
   "cell_type": "code",
   "execution_count": 2,
   "metadata": {},
   "outputs": [],
   "source": [
    "# https://stackoverflow.com/questions/30557409/spotify-api-post-call-response-415\n",
    "def initiate_api():    \n",
    "    client_id = \"9cd3dd2ea2cf492ca28ab0247a79d781\"\n",
    "    client_secret = \"11c972ad002843e9be5ecc31f022dd6e\"\n",
    "    grant_type = 'client_credentials'\n",
    "    body_params = {'grant_type' : grant_type}\n",
    "    url = 'https://accounts.spotify.com/api/token'\n",
    "    response = requests.post(url, data=body_params, auth = (client_id, client_secret)) \n",
    "    client_credentials_manager = SpotifyClientCredentials(client_id, client_secret)\n",
    "    return spotipy.Spotify(client_credentials_manager=client_credentials_manager)\n",
    "sp = initiate_api()"
   ]
  },
  {
   "cell_type": "markdown",
   "metadata": {},
   "source": [
    "### Read in pkl file of songs collected from first 30K playlists in dataset"
   ]
  },
  {
   "cell_type": "code",
   "execution_count": 3,
   "metadata": {},
   "outputs": [
    {
     "data": {
      "text/html": [
       "<div>\n",
       "<style scoped>\n",
       "    .dataframe tbody tr th:only-of-type {\n",
       "        vertical-align: middle;\n",
       "    }\n",
       "\n",
       "    .dataframe tbody tr th {\n",
       "        vertical-align: top;\n",
       "    }\n",
       "\n",
       "    .dataframe thead th {\n",
       "        text-align: right;\n",
       "    }\n",
       "</style>\n",
       "<table border=\"1\" class=\"dataframe\">\n",
       "  <thead>\n",
       "    <tr style=\"text-align: right;\">\n",
       "      <th></th>\n",
       "      <th>index</th>\n",
       "      <th>acousticness</th>\n",
       "      <th>analysis_url</th>\n",
       "      <th>danceability</th>\n",
       "      <th>duration_ms</th>\n",
       "      <th>energy</th>\n",
       "      <th>id</th>\n",
       "      <th>instrumentalness</th>\n",
       "      <th>key</th>\n",
       "      <th>liveness</th>\n",
       "      <th>loudness</th>\n",
       "      <th>mode</th>\n",
       "      <th>speechiness</th>\n",
       "      <th>tempo</th>\n",
       "      <th>time_signature</th>\n",
       "      <th>track_href</th>\n",
       "      <th>type</th>\n",
       "      <th>uri</th>\n",
       "      <th>valence</th>\n",
       "    </tr>\n",
       "  </thead>\n",
       "  <tbody>\n",
       "    <tr>\n",
       "      <th>53</th>\n",
       "      <td>1</td>\n",
       "      <td>0.000032</td>\n",
       "      <td>https://api.spotify.com/v1/audio-analysis/1MYY...</td>\n",
       "      <td>0.343</td>\n",
       "      <td>70294</td>\n",
       "      <td>0.975</td>\n",
       "      <td>1MYYt7h6amcrauCOoso3Gx</td>\n",
       "      <td>0.991</td>\n",
       "      <td>1</td>\n",
       "      <td>0.0515</td>\n",
       "      <td>-2.502</td>\n",
       "      <td>0</td>\n",
       "      <td>0.1350</td>\n",
       "      <td>119.883</td>\n",
       "      <td>4</td>\n",
       "      <td>https://api.spotify.com/v1/tracks/1MYYt7h6amcr...</td>\n",
       "      <td>audio_features</td>\n",
       "      <td>spotify:track:1MYYt7h6amcrauCOoso3Gx</td>\n",
       "      <td>0.133</td>\n",
       "    </tr>\n",
       "    <tr>\n",
       "      <th>54</th>\n",
       "      <td>2</td>\n",
       "      <td>0.000023</td>\n",
       "      <td>https://api.spotify.com/v1/audio-analysis/3x2m...</td>\n",
       "      <td>0.414</td>\n",
       "      <td>65306</td>\n",
       "      <td>0.959</td>\n",
       "      <td>3x2mJ2bjCIU70NrH49CtYR</td>\n",
       "      <td>0.933</td>\n",
       "      <td>7</td>\n",
       "      <td>0.3680</td>\n",
       "      <td>-4.299</td>\n",
       "      <td>0</td>\n",
       "      <td>0.0378</td>\n",
       "      <td>145.911</td>\n",
       "      <td>4</td>\n",
       "      <td>https://api.spotify.com/v1/tracks/3x2mJ2bjCIU7...</td>\n",
       "      <td>audio_features</td>\n",
       "      <td>spotify:track:3x2mJ2bjCIU70NrH49CtYR</td>\n",
       "      <td>0.589</td>\n",
       "    </tr>\n",
       "    <tr>\n",
       "      <th>55</th>\n",
       "      <td>3</td>\n",
       "      <td>0.053400</td>\n",
       "      <td>https://api.spotify.com/v1/audio-analysis/1Pm3...</td>\n",
       "      <td>0.522</td>\n",
       "      <td>108532</td>\n",
       "      <td>0.205</td>\n",
       "      <td>1Pm3fq1SC6lUlNVBGZi3Em</td>\n",
       "      <td>0.235</td>\n",
       "      <td>2</td>\n",
       "      <td>0.0985</td>\n",
       "      <td>-7.986</td>\n",
       "      <td>1</td>\n",
       "      <td>0.0376</td>\n",
       "      <td>103.868</td>\n",
       "      <td>4</td>\n",
       "      <td>https://api.spotify.com/v1/tracks/1Pm3fq1SC6lU...</td>\n",
       "      <td>audio_features</td>\n",
       "      <td>spotify:track:1Pm3fq1SC6lUlNVBGZi3Em</td>\n",
       "      <td>0.353</td>\n",
       "    </tr>\n",
       "    <tr>\n",
       "      <th>59</th>\n",
       "      <td>7</td>\n",
       "      <td>0.201000</td>\n",
       "      <td>https://api.spotify.com/v1/audio-analysis/7dkb...</td>\n",
       "      <td>0.493</td>\n",
       "      <td>226000</td>\n",
       "      <td>0.969</td>\n",
       "      <td>7dkbEHIMLoeuG4zXGmzhEH</td>\n",
       "      <td>0.655</td>\n",
       "      <td>2</td>\n",
       "      <td>0.2470</td>\n",
       "      <td>-3.282</td>\n",
       "      <td>0</td>\n",
       "      <td>0.0463</td>\n",
       "      <td>170.581</td>\n",
       "      <td>4</td>\n",
       "      <td>https://api.spotify.com/v1/tracks/7dkbEHIMLoeu...</td>\n",
       "      <td>audio_features</td>\n",
       "      <td>spotify:track:7dkbEHIMLoeuG4zXGmzhEH</td>\n",
       "      <td>0.340</td>\n",
       "    </tr>\n",
       "    <tr>\n",
       "      <th>88</th>\n",
       "      <td>36</td>\n",
       "      <td>0.007740</td>\n",
       "      <td>https://api.spotify.com/v1/audio-analysis/0hBb...</td>\n",
       "      <td>0.293</td>\n",
       "      <td>658987</td>\n",
       "      <td>0.787</td>\n",
       "      <td>0hBby0yygBY1u3m6tSpZgC</td>\n",
       "      <td>0.496</td>\n",
       "      <td>5</td>\n",
       "      <td>0.3920</td>\n",
       "      <td>-8.841</td>\n",
       "      <td>1</td>\n",
       "      <td>0.0438</td>\n",
       "      <td>165.307</td>\n",
       "      <td>4</td>\n",
       "      <td>https://api.spotify.com/v1/tracks/0hBby0yygBY1...</td>\n",
       "      <td>audio_features</td>\n",
       "      <td>spotify:track:0hBby0yygBY1u3m6tSpZgC</td>\n",
       "      <td>0.138</td>\n",
       "    </tr>\n",
       "  </tbody>\n",
       "</table>\n",
       "</div>"
      ],
      "text/plain": [
       "    index  acousticness                                       analysis_url  \\\n",
       "53      1      0.000032  https://api.spotify.com/v1/audio-analysis/1MYY...   \n",
       "54      2      0.000023  https://api.spotify.com/v1/audio-analysis/3x2m...   \n",
       "55      3      0.053400  https://api.spotify.com/v1/audio-analysis/1Pm3...   \n",
       "59      7      0.201000  https://api.spotify.com/v1/audio-analysis/7dkb...   \n",
       "88     36      0.007740  https://api.spotify.com/v1/audio-analysis/0hBb...   \n",
       "\n",
       "    danceability  duration_ms  energy                      id  \\\n",
       "53         0.343        70294   0.975  1MYYt7h6amcrauCOoso3Gx   \n",
       "54         0.414        65306   0.959  3x2mJ2bjCIU70NrH49CtYR   \n",
       "55         0.522       108532   0.205  1Pm3fq1SC6lUlNVBGZi3Em   \n",
       "59         0.493       226000   0.969  7dkbEHIMLoeuG4zXGmzhEH   \n",
       "88         0.293       658987   0.787  0hBby0yygBY1u3m6tSpZgC   \n",
       "\n",
       "    instrumentalness  key  liveness  loudness  mode  speechiness    tempo  \\\n",
       "53             0.991    1    0.0515    -2.502     0       0.1350  119.883   \n",
       "54             0.933    7    0.3680    -4.299     0       0.0378  145.911   \n",
       "55             0.235    2    0.0985    -7.986     1       0.0376  103.868   \n",
       "59             0.655    2    0.2470    -3.282     0       0.0463  170.581   \n",
       "88             0.496    5    0.3920    -8.841     1       0.0438  165.307   \n",
       "\n",
       "    time_signature                                         track_href  \\\n",
       "53               4  https://api.spotify.com/v1/tracks/1MYYt7h6amcr...   \n",
       "54               4  https://api.spotify.com/v1/tracks/3x2mJ2bjCIU7...   \n",
       "55               4  https://api.spotify.com/v1/tracks/1Pm3fq1SC6lU...   \n",
       "59               4  https://api.spotify.com/v1/tracks/7dkbEHIMLoeu...   \n",
       "88               4  https://api.spotify.com/v1/tracks/0hBby0yygBY1...   \n",
       "\n",
       "              type                                   uri  valence  \n",
       "53  audio_features  spotify:track:1MYYt7h6amcrauCOoso3Gx    0.133  \n",
       "54  audio_features  spotify:track:3x2mJ2bjCIU70NrH49CtYR    0.589  \n",
       "55  audio_features  spotify:track:1Pm3fq1SC6lUlNVBGZi3Em    0.353  \n",
       "59  audio_features  spotify:track:7dkbEHIMLoeuG4zXGmzhEH    0.340  \n",
       "88  audio_features  spotify:track:0hBby0yygBY1u3m6tSpZgC    0.138  "
      ]
     },
     "execution_count": 3,
     "metadata": {},
     "output_type": "execute_result"
    }
   ],
   "source": [
    "songs = pd.read_pickle(\"pickles/songs_30k_dropped.pkl\")\n",
    "songs.head()"
   ]
  },
  {
   "cell_type": "code",
   "execution_count": 4,
   "metadata": {},
   "outputs": [
    {
     "data": {
      "text/plain": [
       "(199252, 19)"
      ]
     },
     "execution_count": 4,
     "metadata": {},
     "output_type": "execute_result"
    }
   ],
   "source": [
    "songs.shape"
   ]
  },
  {
   "cell_type": "markdown",
   "metadata": {},
   "source": [
    "### This function calculates the distance in our KNN Model"
   ]
  },
  {
   "cell_type": "code",
   "execution_count": 7,
   "metadata": {},
   "outputs": [],
   "source": [
    "def distance(songs, seed_song):\n",
    "    '''\n",
    "    inputs: \n",
    "        idkey : song ID of seed song\n",
    "        songs : Dataframe of songs to choose from\n",
    "    outputs:\n",
    "        dist : pandas Series containing calculated 'distance' from songs in the input dataframe to the seed song\n",
    "    '''\n",
    "    dist = np.sqrt((np.subtract(songs.acousticness, seed_song.acousticness))**2\n",
    "                 + (np.subtract(songs.danceability, seed_song.danceability))**2\n",
    "                 + (np.subtract(songs.energy, seed_song.energy))**2\n",
    "                 + (np.subtract(songs.instrumentalness, seed_song.instrumentalness))**2\n",
    "                 + (np.subtract(songs.liveness, seed_song.liveness))**2\n",
    "                 + (np.subtract(songs.speechiness, seed_song.speechiness))**2\n",
    "                 + (np.subtract(songs.tempo, seed_song.tempo))**2)\n",
    "        \n",
    "    return dist"
   ]
  },
  {
   "cell_type": "markdown",
   "metadata": {},
   "source": [
    "### Enter song ID to seed the playlist from"
   ]
  },
  {
   "cell_type": "code",
   "execution_count": 8,
   "metadata": {},
   "outputs": [
    {
     "ename": "SyntaxError",
     "evalue": "invalid syntax (<ipython-input-8-1c599e3a7647>, line 7)",
     "output_type": "error",
     "traceback": [
      "\u001b[0;36m  File \u001b[0;32m\"<ipython-input-8-1c599e3a7647>\"\u001b[0;36m, line \u001b[0;32m7\u001b[0m\n\u001b[0;31m    spotify:track:7AJIHT8hK423KPQZtvwEkM\u001b[0m\n\u001b[0m                 ^\u001b[0m\n\u001b[0;31mSyntaxError\u001b[0m\u001b[0;31m:\u001b[0m invalid syntax\n"
     ]
    }
   ],
   "source": [
    "# spotify:track:1ghlpxVfPbFH2jenrv9vVw\n",
    "# spotify:track:0AJUX8BRUehB6RHPZUOoYS\n",
    "# spotify:track:5IVuqXILoxVWvWEPm82Jxr\n",
    "# spotify:track:5IVuqXILoxVWvWEPm82Jxr\n",
    "# spotify:track:550rQQCGkrTzvp4SfpOPzx\n",
    "# spotify:track:2c37Gkpu75l3kvh1FUZrHV\n",
    "spotify:track:7AJIHT8hK423KPQZtvwEkM\n",
    "spotify:track:7N3PAbqfTjSEU1edb2tY8j"
   ]
  },
  {
   "cell_type": "code",
   "execution_count": 9,
   "metadata": {},
   "outputs": [],
   "source": [
    "song_id = '5cYA45RVGI6F4f06gtWjsd' # Crazy in Love by Beyonce\n"
   ]
  },
  {
   "cell_type": "code",
   "execution_count": 10,
   "metadata": {},
   "outputs": [
    {
     "data": {
      "text/html": [
       "<div>\n",
       "<style scoped>\n",
       "    .dataframe tbody tr th:only-of-type {\n",
       "        vertical-align: middle;\n",
       "    }\n",
       "\n",
       "    .dataframe tbody tr th {\n",
       "        vertical-align: top;\n",
       "    }\n",
       "\n",
       "    .dataframe thead th {\n",
       "        text-align: right;\n",
       "    }\n",
       "</style>\n",
       "<table border=\"1\" class=\"dataframe\">\n",
       "  <thead>\n",
       "    <tr style=\"text-align: right;\">\n",
       "      <th></th>\n",
       "      <th>danceability</th>\n",
       "      <th>energy</th>\n",
       "      <th>key</th>\n",
       "      <th>loudness</th>\n",
       "      <th>mode</th>\n",
       "      <th>speechiness</th>\n",
       "      <th>acousticness</th>\n",
       "      <th>instrumentalness</th>\n",
       "      <th>liveness</th>\n",
       "      <th>valence</th>\n",
       "      <th>tempo</th>\n",
       "      <th>type</th>\n",
       "      <th>id</th>\n",
       "      <th>uri</th>\n",
       "      <th>track_href</th>\n",
       "      <th>analysis_url</th>\n",
       "      <th>duration_ms</th>\n",
       "      <th>time_signature</th>\n",
       "    </tr>\n",
       "  </thead>\n",
       "  <tbody>\n",
       "    <tr>\n",
       "      <th>0</th>\n",
       "      <td>0.349</td>\n",
       "      <td>0.166</td>\n",
       "      <td>4</td>\n",
       "      <td>-14.957</td>\n",
       "      <td>1</td>\n",
       "      <td>0.0395</td>\n",
       "      <td>0.903</td>\n",
       "      <td>0.783</td>\n",
       "      <td>0.11</td>\n",
       "      <td>0.0895</td>\n",
       "      <td>97.972</td>\n",
       "      <td>audio_features</td>\n",
       "      <td>5cYA45RVGI6F4f06gtWjsd</td>\n",
       "      <td>spotify:track:5cYA45RVGI6F4f06gtWjsd</td>\n",
       "      <td>https://api.spotify.com/v1/tracks/5cYA45RVGI6F...</td>\n",
       "      <td>https://api.spotify.com/v1/audio-analysis/5cYA...</td>\n",
       "      <td>206960</td>\n",
       "      <td>4</td>\n",
       "    </tr>\n",
       "  </tbody>\n",
       "</table>\n",
       "</div>"
      ],
      "text/plain": [
       "   danceability  energy  key  loudness  mode  speechiness  acousticness  \\\n",
       "0         0.349   0.166    4   -14.957     1       0.0395         0.903   \n",
       "\n",
       "   instrumentalness  liveness  valence   tempo            type  \\\n",
       "0             0.783      0.11   0.0895  97.972  audio_features   \n",
       "\n",
       "                       id                                   uri  \\\n",
       "0  5cYA45RVGI6F4f06gtWjsd  spotify:track:5cYA45RVGI6F4f06gtWjsd   \n",
       "\n",
       "                                          track_href  \\\n",
       "0  https://api.spotify.com/v1/tracks/5cYA45RVGI6F...   \n",
       "\n",
       "                                        analysis_url  duration_ms  \\\n",
       "0  https://api.spotify.com/v1/audio-analysis/5cYA...       206960   \n",
       "\n",
       "   time_signature  \n",
       "0               4  "
      ]
     },
     "execution_count": 10,
     "metadata": {},
     "output_type": "execute_result"
    }
   ],
   "source": [
    "seed_song = pd.DataFrame(sp.audio_features(song_id))\n",
    "seed_song"
   ]
  },
  {
   "cell_type": "markdown",
   "metadata": {},
   "source": [
    "### Get playlist from seed song"
   ]
  },
  {
   "cell_type": "code",
   "execution_count": 11,
   "metadata": {},
   "outputs": [
    {
     "name": "stdout",
     "output_type": "stream",
     "text": [
      "Seed Song: Concerto For Violin And Strings In E, Op.8, No.1, R.269 \"La Primavera\": 1. Allegro\n"
     ]
    }
   ],
   "source": [
    "print(\"Seed Song: \" + sp.track(song_id)['name'])"
   ]
  },
  {
   "cell_type": "markdown",
   "metadata": {},
   "source": [
    "### Final Baseline Playlist Generator"
   ]
  },
  {
   "cell_type": "code",
   "execution_count": 12,
   "metadata": {},
   "outputs": [],
   "source": [
    "def playlist_generator(songs, seed_song, n):\n",
    "    topn_dist = distance(songs, seed_song).sort_values()[0:n]\n",
    "    topn = songs.iloc[topn_dist.index]\n",
    "    return topn\n",
    "\n",
    "def playlist_printer(playlist): \n",
    "    for ref in playlist['id']:\n",
    "        track = sp.track(ref)\n",
    "        print(track['name'])\n",
    "        print('by')\n",
    "        for artist in track['artists']:\n",
    "            print(artist['name'])\n",
    "        print('-----------------------------------')"
   ]
  },
  {
   "cell_type": "code",
   "execution_count": 13,
   "metadata": {},
   "outputs": [
    {
     "name": "stdout",
     "output_type": "stream",
     "text": [
      "Lose Control\n",
      "by\n",
      "Missy Elliott\n",
      "Ciara\n",
      "Fatman Scoop\n",
      "-----------------------------------\n",
      "Toxic\n",
      "by\n",
      "Britney Spears\n",
      "-----------------------------------\n",
      "Crazy In Love (feat. Jay-Z)\n",
      "by\n",
      "Beyoncé\n",
      "JAY Z\n",
      "-----------------------------------\n",
      "Rock Your Body\n",
      "by\n",
      "Justin Timberlake\n",
      "-----------------------------------\n",
      "It Wasn't Me\n",
      "by\n",
      "Shaggy\n",
      "Rik Rok\n",
      "-----------------------------------\n",
      "Yeah!\n",
      "by\n",
      "Usher\n",
      "Lil Jon\n",
      "Ludacris\n",
      "-----------------------------------\n",
      "My Boo\n",
      "by\n",
      "Usher\n",
      "Alicia Keys\n",
      "-----------------------------------\n",
      "Buttons\n",
      "by\n",
      "The Pussycat Dolls\n",
      "-----------------------------------\n",
      "Say My Name\n",
      "by\n",
      "Destiny's Child\n",
      "-----------------------------------\n",
      "Hey Ya!\n",
      "by\n",
      "OutKast\n",
      "-----------------------------------\n",
      "Promiscuous\n",
      "by\n",
      "Nelly Furtado\n",
      "Timbaland\n",
      "-----------------------------------\n",
      "Right Where You Want Me - Radio Edit Version\n",
      "by\n",
      "Jesse McCartney\n",
      "-----------------------------------\n",
      "Beautiful Soul\n",
      "by\n",
      "Jesse McCartney\n",
      "-----------------------------------\n",
      "Leavin'\n",
      "by\n",
      "Jesse McCartney\n",
      "-----------------------------------\n",
      "Me & U\n",
      "by\n",
      "Cassie\n",
      "-----------------------------------\n",
      "Ice Box\n",
      "by\n",
      "Omarion\n",
      "-----------------------------------\n",
      "Sk8er Boi\n",
      "by\n",
      "Avril Lavigne\n",
      "-----------------------------------\n",
      "Run It! (feat. Juelz Santana)\n",
      "by\n",
      "Chris Brown\n",
      "Juelz Santana\n",
      "-----------------------------------\n",
      "Check On It - feat. Bun B and Slim Thug\n",
      "by\n",
      "Beyoncé\n",
      "Bun B\n",
      "Slim Thug\n",
      "-----------------------------------\n",
      "Jumpin', Jumpin'\n",
      "by\n",
      "Destiny's Child\n",
      "-----------------------------------\n",
      "Soak Up The Sun\n",
      "by\n",
      "Sheryl Crow\n",
      "-----------------------------------\n",
      "Where Is The Love?\n",
      "by\n",
      "The Black Eyed Peas\n",
      "-----------------------------------\n",
      "Stacy's Mom\n",
      "by\n",
      "Bowling For Soup\n",
      "-----------------------------------\n",
      "Just the Girl\n",
      "by\n",
      "The Click Five\n",
      "-----------------------------------\n",
      "Yo (Excuse Me Miss)\n",
      "by\n",
      "Chris Brown\n",
      "-----------------------------------\n"
     ]
    }
   ],
   "source": [
    "playlist = playlist_generator(songs, seed_song, 25)\n",
    "playlist_printer(playlist)"
   ]
  },
  {
   "cell_type": "markdown",
   "metadata": {},
   "source": [
    "### Baseline Model 2 \n",
    "\n",
    "Instead of simply taking the audio features as they are, let's scale tempo to be on the same scale as our other normalized predictors"
   ]
  },
  {
   "cell_type": "code",
   "execution_count": null,
   "metadata": {},
   "outputs": [],
   "source": [
    "songs2 = songs.copy()\n",
    "songs2 = songs2.reset_index()\n",
    "cols = [\"acousticness\", \"danceability\", \"energy\", \"instrumentalness\", \"liveness\", \"speechiness\", \"tempo\"]\n",
    "\n",
    "def scaler(cols, df_old, df_new):\n",
    "    df_new = df_old.copy()\n",
    "    x_scaler = MinMaxScaler().fit(df_old[\"tempo\"].values.reshape(-1,1))\n",
    "    x_scaled = x_scaler.transform(df_old[\"tempo\"].values.reshape(-1,1))\n",
    "    df_new[\"tempo\"] = x_scaled\n",
    "    return(df_new, x_scaler)\n",
    "\n",
    "songs2, x_scaler = scaler(cols, songs, songs2)"
   ]
  },
  {
   "cell_type": "code",
   "execution_count": null,
   "metadata": {},
   "outputs": [],
   "source": []
  }
 ],
 "metadata": {
  "kernelspec": {
   "display_name": "Python 3",
   "language": "python",
   "name": "python3"
  },
  "language_info": {
   "codemirror_mode": {
    "name": "ipython",
    "version": 3
   },
   "file_extension": ".py",
   "mimetype": "text/x-python",
   "name": "python",
   "nbconvert_exporter": "python",
   "pygments_lexer": "ipython3",
   "version": "3.6.9"
  }
 },
 "nbformat": 4,
 "nbformat_minor": 4
}
